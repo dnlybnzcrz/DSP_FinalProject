{
 "cells": [
  {
   "cell_type": "code",
   "execution_count": 3,
   "id": "372b8076",
   "metadata": {
    "scrolled": true
   },
   "outputs": [
    {
     "name": "stdout",
     "output_type": "stream",
     "text": [
      "Defaulting to user installation because normal site-packages is not writeable\n",
      "Requirement already satisfied: mysql in c:\\users\\edral\\appdata\\roaming\\python\\python310\\site-packages (0.0.3)\n",
      "Requirement already satisfied: mysqlclient in c:\\users\\edral\\appdata\\roaming\\python\\python310\\site-packages (from mysql) (2.1.1)\n"
     ]
    }
   ],
   "source": [
    "!pip install mysql"
   ]
  },
  {
   "cell_type": "code",
   "execution_count": 4,
   "id": "705d8790",
   "metadata": {},
   "outputs": [
    {
     "name": "stdout",
     "output_type": "stream",
     "text": [
      "Defaulting to user installation because normal site-packages is not writeable\n",
      "Requirement already satisfied: mysql-connector-python in c:\\users\\edral\\appdata\\roaming\\python\\python310\\site-packages (8.0.33)\n",
      "Requirement already satisfied: protobuf<=3.20.3,>=3.11.0 in c:\\users\\edral\\appdata\\roaming\\python\\python310\\site-packages (from mysql-connector-python) (3.20.3)\n"
     ]
    }
   ],
   "source": [
    "!pip install mysql-connector-python"
   ]
  },
  {
   "cell_type": "code",
   "execution_count": 5,
   "id": "b2326a73",
   "metadata": {},
   "outputs": [
    {
     "name": "stdout",
     "output_type": "stream",
     "text": [
      "Defaulting to user installation because normal site-packages is not writeable\n",
      "Requirement already satisfied: SpeechRecognition in c:\\users\\edral\\appdata\\roaming\\python\\python310\\site-packages (3.10.0)\n",
      "Requirement already satisfied: requests>=2.26.0 in c:\\users\\edral\\appdata\\roaming\\python\\python310\\site-packages (from SpeechRecognition) (2.28.2)\n",
      "Requirement already satisfied: charset-normalizer<4,>=2 in c:\\users\\edral\\appdata\\roaming\\python\\python310\\site-packages (from requests>=2.26.0->SpeechRecognition) (3.1.0)\n",
      "Requirement already satisfied: urllib3<1.27,>=1.21.1 in c:\\users\\edral\\appdata\\roaming\\python\\python310\\site-packages (from requests>=2.26.0->SpeechRecognition) (1.26.15)\n",
      "Requirement already satisfied: idna<4,>=2.5 in c:\\users\\edral\\appdata\\roaming\\python\\python310\\site-packages (from requests>=2.26.0->SpeechRecognition) (3.4)\n",
      "Requirement already satisfied: certifi>=2017.4.17 in c:\\users\\edral\\appdata\\roaming\\python\\python310\\site-packages (from requests>=2.26.0->SpeechRecognition) (2022.12.7)\n"
     ]
    }
   ],
   "source": [
    "!pip install SpeechRecognition"
   ]
  },
  {
   "cell_type": "code",
   "execution_count": 6,
   "id": "0ca6379f",
   "metadata": {},
   "outputs": [
    {
     "name": "stdout",
     "output_type": "stream",
     "text": [
      "Defaulting to user installation because normal site-packages is not writeable\n",
      "Requirement already satisfied: gTTs in c:\\users\\edral\\appdata\\roaming\\python\\python310\\site-packages (2.3.2)\n",
      "Requirement already satisfied: click<8.2,>=7.1 in c:\\users\\edral\\appdata\\roaming\\python\\python310\\site-packages (from gTTs) (8.1.3)\n",
      "Requirement already satisfied: requests<3,>=2.27 in c:\\users\\edral\\appdata\\roaming\\python\\python310\\site-packages (from gTTs) (2.28.2)\n",
      "Requirement already satisfied: colorama in c:\\users\\edral\\appdata\\roaming\\python\\python310\\site-packages (from click<8.2,>=7.1->gTTs) (0.4.6)\n",
      "Requirement already satisfied: charset-normalizer<4,>=2 in c:\\users\\edral\\appdata\\roaming\\python\\python310\\site-packages (from requests<3,>=2.27->gTTs) (3.1.0)\n",
      "Requirement already satisfied: idna<4,>=2.5 in c:\\users\\edral\\appdata\\roaming\\python\\python310\\site-packages (from requests<3,>=2.27->gTTs) (3.4)\n",
      "Requirement already satisfied: certifi>=2017.4.17 in c:\\users\\edral\\appdata\\roaming\\python\\python310\\site-packages (from requests<3,>=2.27->gTTs) (2022.12.7)\n",
      "Requirement already satisfied: urllib3<1.27,>=1.21.1 in c:\\users\\edral\\appdata\\roaming\\python\\python310\\site-packages (from requests<3,>=2.27->gTTs) (1.26.15)\n"
     ]
    }
   ],
   "source": [
    "!pip install gTTs"
   ]
  },
  {
   "cell_type": "code",
   "execution_count": 7,
   "id": "883222f4",
   "metadata": {},
   "outputs": [
    {
     "name": "stdout",
     "output_type": "stream",
     "text": [
      "Defaulting to user installation because normal site-packages is not writeable\n",
      "Requirement already satisfied: pyaudio in c:\\users\\edral\\appdata\\roaming\\python\\python310\\site-packages (0.2.13)\n"
     ]
    }
   ],
   "source": [
    "!pip install pyaudio"
   ]
  },
  {
   "cell_type": "code",
   "execution_count": 1,
   "id": "06535dd5",
   "metadata": {},
   "outputs": [
    {
     "name": "stdout",
     "output_type": "stream",
     "text": [
      "speak......\n",
      "after converting: hello sir haughty\n",
      "your encrypted text:  wocejzc ikh mgguc \n",
      "working\n",
      "[' ', 'w', 'o', 'c', 'e', 'j', 'z', 'c', ' ', 'i', 'k', 'h', ' ', 'm', 'g', 'g', 'u', 'c', ' ']\n",
      "decrypted text:  hello sir haughty  \n",
      "working\n"
     ]
    }
   ],
   "source": [
    "import mysql.connector \n",
    "import speech_recognition as sr\n",
    "from gtts import gTTS\n",
    "\n",
    "mydb = mysql.connector.connect(\n",
    "    host=\"localhost\",\n",
    "    user=\"root\",\n",
    "    password=\"\",\n",
    "    database=\"test\"\n",
    ")\n",
    "\n",
    "mycursor = mydb.cursor()\n",
    "class sound_encryption_decryption_program:\n",
    "    #Initializations\n",
    "    def __init__(self):\n",
    "        self.codes = {'a': 'z', 'b': 'x', 'c': 'y', 'd': 's', 'e': 'u', 'f': 'a', 'g': 'e', 'h': 'c', 'i': 'k',\n",
    "                      'j': 'r', 'k': 'n', 'l': 'g', 'm': 'd', 'n': 'l', 'o': 'm', 'p': 't', 'q': 'f', 'r': 'i',\n",
    "                      's': 'h', 't': 'o', 'u': 'j', 'v': 'p', 'w': 'v', 'x': 'b', 'y': 'w', 'z': 'q'}\n",
    "        self.list_1 = []\n",
    "        self.list_2 = []\n",
    "        self.r = sr.Recognizer() \n",
    "        self.dec1 =[]\n",
    "        self.dec2 = []\n",
    "        self.List = []\n",
    "\n",
    "    #Encryption Function     \n",
    "    def encryption(self):\n",
    "        with sr.Microphone() as source:\n",
    "            print(\"speak......\")\n",
    "            self.r.adjust_for_ambient_noise(source) \n",
    "            audio = self.r.listen(source)\n",
    "            try:\n",
    "                Text = self.r.recognize_google(audio) #Access google web speech API, uses google's platform service for detecting\n",
    "                #natural language\n",
    "                print(\"after converting:\", Text.lower())\n",
    "\n",
    "                #encryption code\n",
    "                #reverses the order of the input word by word for example:\n",
    "                #mic test = test mic\n",
    "    \n",
    "                x = Text.split(\" \")\n",
    "                inverse_text = x[::-1]\n",
    "                z = \"\"\n",
    "                #Reverses the order of the letters for example:\n",
    "                #test mic = tset cim \n",
    "                for i in range(0, len(inverse_text)):\n",
    "                    string = \"\".join(reversed(inverse_text[i]))\n",
    "                    z += string\n",
    "                    z += \" \"\n",
    "                #Puts every reversed letters in the list array (list_1=[])\n",
    "                for i in z:\n",
    "                    self.list_1.append(i)\n",
    "                #For every no space in the list_1 array it will get a letter in the codes array and put those letters in list_2 \n",
    "                #array else if there is a space, it will put a space in list_2 array. \n",
    "                for i in range(0, len(self.list_1)): \n",
    "                    for j in self.list_1[i]:\n",
    "                        if j != ' ':\n",
    "                            for key in self.codes.keys():\n",
    "                                if key in j:\n",
    "                                    self.list_2.append(self.codes.get(key))\n",
    "                        else:\n",
    "                            self.list_2.append(\"/s\")\n",
    "                global encrypt\n",
    "                encrypt = \" \"\n",
    "                #If the i detects a space in list_2 array it will put a space in the encrypt string and if the i detects a letter\n",
    "                #in the list2_array, it will put the letter that it detects in the encrypt string \n",
    "                for i in range(0, len(self.list_2)):\n",
    "                    if self.list_2[i] == \"/s\":\n",
    "                        encrypt += \" \"\n",
    "                    else:\n",
    "                        encrypt += self.list_2[i]\n",
    "                print(\"your encrypted text:\", encrypt) \n",
    "                file = open(\"encrypt.txt\", 'w')\n",
    "                file.write(encrypt)\n",
    "                \n",
    "                try:\n",
    "                    tts = gTTS(text=encrypt, lang='en')\n",
    "                    f_name = 'voice.mp3'\n",
    "                    tts.save(f_name)\n",
    "                    print(\"working\")\n",
    "                except:\n",
    "                    print(\"not saving\")\n",
    "            except:\n",
    "                print(\"could not recognize your voice\")\n",
    "\n",
    "    #Decryption Function \n",
    "    def decryption_of_soundfile(self):\n",
    "        #Opens the file of the encrypted text and inserted all the letters in variable \"z\"\n",
    "        z=[]\n",
    "        f = open(\"encrypt.txt\", \"r\")\n",
    "        for i in f:\n",
    "           for x in i:\n",
    "               z.append(x)\n",
    "        print(z)\n",
    "        # ohuo ykd \n",
    "        #What happens here is that if there is no space detected during the iteration of \"j\", it will perform the iteration of j\n",
    "        #in z[i] while also checking the values for the codes array.\n",
    "        for i in range(0, len(z)):\n",
    "            for j in z[i]:\n",
    "                if j != \" \":\n",
    "                    if j in self.codes.values():\n",
    "                        #list(self.codes.keys()) basically lists all the letters starting from a to z while self.codes.values() \n",
    "                        #lists all the values for the the alphas a to z.\n",
    "                        #What happens in this line of code is that there is a comparison when performing this line\n",
    "                        #For example the encrypted text is ohuo ykd:\n",
    "                        #Since the itertaion of j in z[i] <- this is the encrypted.txt that had been stored to variable \"z\" is\n",
    "                        #starting with 0, the first decryption will be a space otherwise, since the first letter in the encryption \n",
    "                        #is \"o\", the corresponding key for that is \"t\". So, what will happen is that the \"o\" will be replaced with\n",
    "                        #\"t\" and it will up until the length of the text file. So, the decrypted \"unreversed\" word is tset ciM.\n",
    "                        self.dec1.append(list(self.codes.keys())[list(self.codes.values()).index(z[i])])\n",
    "                else:\n",
    "                    self.dec1.append(\"/s\")\n",
    "        z = \"\"\n",
    "        for i in range(0, len(self.dec1)):\n",
    "            if self.dec1[i] == \"/s\":\n",
    "                z += \" \"\n",
    "            else:\n",
    "                z += self.dec1[i]\n",
    "        y = z.split(\" \")\n",
    "        #It will reverse the \"unreversed\" decrypted text word by word so from tset ciM it will be ciM tset\n",
    "        for i in y:\n",
    "            self.dec2.append(i)\n",
    "        rev = self.dec2[::-1] \n",
    "        global rever\n",
    "        rever = \"\"\n",
    "        #It will reverse the \"unreversed\" decrypted text letter by word so from ciM tset it will be Mic test\n",
    "        for i in range(0, len(rev)):\n",
    "            string = \"\".join(reversed(rev[i]))\n",
    "            rever += string\n",
    "            rever += \" \"\n",
    "        print(\"decrypted text:\", rever)\n",
    "        file = open(\"decrypt.txt\", 'w')\n",
    "        file.write(rever)\n",
    "        \n",
    "        try:\n",
    "            tts = gTTS(text=rever, lang='en')\n",
    "            f_name = 'decryptedfile.mp3'\n",
    "            tts.save(f_name)\n",
    "            print(\"working\")\n",
    "        except:\n",
    "            print(\"file has not been created\")\n",
    "\n",
    "ob = sound_encryption_decryption_program()\n",
    "ob.encryption()\n",
    "ob.decryption_of_soundfile()"
   ]
  },
  {
   "cell_type": "code",
   "execution_count": 2,
   "id": "675f6f59",
   "metadata": {},
   "outputs": [],
   "source": [
    "x = \"Mic test\""
   ]
  },
  {
   "cell_type": "code",
   "execution_count": 5,
   "id": "0ab69d7b",
   "metadata": {},
   "outputs": [],
   "source": [
    "y = x.split(\" \")"
   ]
  },
  {
   "cell_type": "code",
   "execution_count": 6,
   "id": "920d1f50",
   "metadata": {},
   "outputs": [
    {
     "data": {
      "text/plain": [
       "['Mic', 'test']"
      ]
     },
     "execution_count": 6,
     "metadata": {},
     "output_type": "execute_result"
    }
   ],
   "source": [
    "y"
   ]
  },
  {
   "cell_type": "code",
   "execution_count": 7,
   "id": "88a806c5",
   "metadata": {},
   "outputs": [],
   "source": [
    "inverse_text = y[::-1]"
   ]
  },
  {
   "cell_type": "code",
   "execution_count": 8,
   "id": "b772adc9",
   "metadata": {},
   "outputs": [
    {
     "data": {
      "text/plain": [
       "['test', 'Mic']"
      ]
     },
     "execution_count": 8,
     "metadata": {},
     "output_type": "execute_result"
    }
   ],
   "source": [
    "inverse_text"
   ]
  },
  {
   "cell_type": "code",
   "execution_count": 9,
   "id": "903e34f0",
   "metadata": {},
   "outputs": [],
   "source": [
    "z = \"\"\n",
    "for i in range(0, len(inverse_text)):\n",
    "    string = \"\".join(reversed(inverse_text[i]))\n",
    "    z += string\n",
    "    z += \" \""
   ]
  },
  {
   "cell_type": "code",
   "execution_count": 10,
   "id": "a134347a",
   "metadata": {},
   "outputs": [
    {
     "data": {
      "text/plain": [
       "'tset ciM '"
      ]
     },
     "execution_count": 10,
     "metadata": {},
     "output_type": "execute_result"
    }
   ],
   "source": [
    "z"
   ]
  },
  {
   "cell_type": "code",
   "execution_count": 11,
   "id": "be839c45",
   "metadata": {},
   "outputs": [
    {
     "name": "stdout",
     "output_type": "stream",
     "text": [
      "t\n",
      "s\n",
      "e\n",
      "t\n",
      " \n",
      "c\n",
      "i\n",
      "M\n",
      " \n"
     ]
    }
   ],
   "source": [
    "for i in z:\n",
    "    print(i)"
   ]
  },
  {
   "cell_type": "code",
   "execution_count": 12,
   "id": "8952841f",
   "metadata": {},
   "outputs": [
    {
     "data": {
      "text/plain": [
       "9"
      ]
     },
     "execution_count": 12,
     "metadata": {},
     "output_type": "execute_result"
    }
   ],
   "source": [
    "len(z)"
   ]
  },
  {
   "cell_type": "code",
   "execution_count": 13,
   "id": "24159a09",
   "metadata": {},
   "outputs": [
    {
     "data": {
      "text/plain": [
       "'tset ciM '"
      ]
     },
     "execution_count": 13,
     "metadata": {},
     "output_type": "execute_result"
    }
   ],
   "source": [
    "z"
   ]
  },
  {
   "cell_type": "code",
   "execution_count": null,
   "id": "dd751918",
   "metadata": {},
   "outputs": [],
   "source": []
  }
 ],
 "metadata": {
  "kernelspec": {
   "display_name": "Python 3 (ipykernel)",
   "language": "python",
   "name": "python3"
  },
  "language_info": {
   "codemirror_mode": {
    "name": "ipython",
    "version": 3
   },
   "file_extension": ".py",
   "mimetype": "text/x-python",
   "name": "python",
   "nbconvert_exporter": "python",
   "pygments_lexer": "ipython3",
   "version": "3.10.9"
  }
 },
 "nbformat": 4,
 "nbformat_minor": 5
}
